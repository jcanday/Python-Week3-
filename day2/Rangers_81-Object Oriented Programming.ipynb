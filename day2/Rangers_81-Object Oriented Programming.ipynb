{
 "cells": [
  {
   "cell_type": "markdown",
   "metadata": {},
   "source": [
    "# Object-Oriented-Programming (OOP)"
   ]
  },
  {
   "cell_type": "markdown",
   "metadata": {},
   "source": [
    "## Tasks Today:\n",
    "\n",
    "   \n",
    "\n",
    "1) <b>Creating a Class (Initializing/Declaring)</b> <br>\n",
    "2) <b>Using a Class (Instantiating)</b> <br>\n",
    " &nbsp;&nbsp;&nbsp;&nbsp; a) Creating One Instance <br>\n",
    " &nbsp;&nbsp;&nbsp;&nbsp; b) Creating Multiple Instances <br>\n",
    " &nbsp;&nbsp;&nbsp;&nbsp; c) In-Class Exercise #1 - Create a Class 'Car' and instantiate three different makes of cars <br>\n",
    "3) <b>The \\__init\\__() Method</b> <br>\n",
    " &nbsp;&nbsp;&nbsp;&nbsp; a) The 'self' Attribute <br>\n",
    "4) <b>Class Attributes</b> <br>\n",
    " &nbsp;&nbsp;&nbsp;&nbsp; a) Initializing Attributes <br>\n",
    " &nbsp;&nbsp;&nbsp;&nbsp; b) Setting an Attribute Outside of the \\__init\\__() Method <br>\n",
    " &nbsp;&nbsp;&nbsp;&nbsp; c) Setting Defaults for Attributes <br>\n",
    " &nbsp;&nbsp;&nbsp;&nbsp; d) Accessing Class Attributes <br>\n",
    " &nbsp;&nbsp;&nbsp;&nbsp; e) Changing Class Attributes <br>\n",
    " &nbsp;&nbsp;&nbsp;&nbsp; f) In-Class Exercise #2 - Add a color and wheels attribute to your 'Car' class <br>\n",
    "5) <b>Class Methods</b> <br>\n",
    " &nbsp;&nbsp;&nbsp;&nbsp; a) Creating <br>\n",
    " &nbsp;&nbsp;&nbsp;&nbsp; b) Calling <br>\n",
    " &nbsp;&nbsp;&nbsp;&nbsp; c) Modifying an Attribute's Value Through a Method <br>\n",
    " &nbsp;&nbsp;&nbsp;&nbsp; d) Incrementing an Attribute's Value Through a Method <br>\n",
    " &nbsp;&nbsp;&nbsp;&nbsp; e) In-Class Exercise #3 - Add a method that prints the cars color and wheel number, then call them <br>\n",
    "6) <b>Inheritance</b> <br>\n",
    " &nbsp;&nbsp;&nbsp;&nbsp; a) Syntax for Inheriting from a Parent Class <br>\n",
    " &nbsp;&nbsp;&nbsp;&nbsp; b) The \\__init\\__() Method for a Child Class (super()) <br>\n",
    " &nbsp;&nbsp;&nbsp;&nbsp; c) Defining Attributes and Methods for the Child Class <br>\n",
    " &nbsp;&nbsp;&nbsp;&nbsp; d) Method Overriding <br>\n",
    " &nbsp;&nbsp;&nbsp;&nbsp; e) In-Class Exercise #4 - Create a class 'Ford' that inherits from 'Car' class and initialize it as a Blue Ford Explorer with 4 wheels using the super() method <br>\n",
    "7) <b>Classes as Attributes</b> <br>\n",
    "8) <b>Exercises</b> <br>\n",
    " &nbsp;&nbsp;&nbsp;&nbsp; a) Exercise #1 - Turn the shopping cart program from last week into an object-oriented program <br>"
   ]
  },
  {
   "cell_type": "markdown",
   "metadata": {},
   "source": [
    "## Creating a Class (Initializing/Declaring)\n",
    "<p>When creating a class, function, or even a variable you are initializing that object. Initializing and Declaring occur at the same time in Python, whereas in lower level languages you have to declare an object before initializing it. This is the first step in the process of using a class.</p>"
   ]
  },
  {
   "cell_type": "code",
   "execution_count": 7,
   "metadata": {},
   "outputs": [
    {
     "data": {
      "text/plain": [
       "[1, 4, 9, 25, 36, 64, 81]"
      ]
     },
     "execution_count": 7,
     "metadata": {},
     "output_type": "execute_result"
    }
   ],
   "source": [
    "#    Sorted Squared array\n",
    "#   -----------------------\n",
    "# Write a function that takes a non-empty array of integers that are sorted in ascending order and returns a new array of the same length with the squares of the original integers also sorted in ascending order \n",
    "# Sample Input:\n",
    "Array = [1,2,3,5,6,8,9]\n",
    "# Sample Output:\n",
    "# [1,4,9,25,36,64,81]\n",
    "# Sample Input2:\n",
    "# array = [-9,-3,1,2,5,6,8]\n",
    "# Sample Output2:\n",
    "# [1,4,9,25,36,64,81]\n",
    "\n",
    "def sorted_squared(lst):\n",
    "    return sorted(list(map(lambda x: x*x,lst)))\n",
    "\n",
    "sorted_squared(array)"
   ]
  },
  {
   "cell_type": "code",
   "execution_count": 9,
   "metadata": {},
   "outputs": [],
   "source": [
    "class Car():\n",
    "    wheels = 4\n",
    "    color = 'blue'"
   ]
  },
  {
   "cell_type": "markdown",
   "metadata": {},
   "source": [
    "## Using a Class (Instantiating)\n",
    "<p>The process of creating a class is called <i>Instantiating</i>. Each time you create a variable of that type of class, it is referred to as an <i>Instance</i> of that class. This is the second step in the process of using a class.</p>"
   ]
  },
  {
   "cell_type": "markdown",
   "metadata": {},
   "source": [
    "##### Creating One Instance"
   ]
  },
  {
   "cell_type": "code",
   "execution_count": 10,
   "metadata": {},
   "outputs": [],
   "source": [
    "ford = Car()\n"
   ]
  },
  {
   "cell_type": "markdown",
   "metadata": {},
   "source": [
    "##### Creating Multiple Instances"
   ]
  },
  {
   "cell_type": "code",
   "execution_count": 12,
   "metadata": {},
   "outputs": [
    {
     "name": "stdout",
     "output_type": "stream",
     "text": [
      "4\n",
      "4\n",
      "blue\n",
      "blue\n"
     ]
    }
   ],
   "source": [
    "mazda = Car()\n",
    "honda = Car()\n",
    "porsche = Car()\n",
    "\n",
    "print(mazda.wheels)\n",
    "print(honda.wheels)\n",
    "print(ford.color)\n",
    "print(porsche.color)"
   ]
  },
  {
   "cell_type": "markdown",
   "metadata": {},
   "source": [
    "##### In-Class Exercise #1 - Create a Class 'Car' and Instantiate three different makes of cars"
   ]
  },
  {
   "cell_type": "code",
   "execution_count": null,
   "metadata": {},
   "outputs": [],
   "source": [
    "class SuperCars()\n",
    "    wheels = 4\n",
    "    hood = \"Carbon Fibre\"\n",
    "    tires = \"Racing\"\n",
    "    \n",
    "spyker = SuperCars()\n",
    "vencer = SuperCars()\n",
    "ultima = SuperCars()"
   ]
  },
  {
   "cell_type": "markdown",
   "metadata": {},
   "source": [
    "## The \\__init\\__() Method <br>\n",
    "<p>This method is used in almost every created class, and called only once upon the creation of the class instance. This method will initialize all variables needed for the object.</p>"
   ]
  },
  {
   "cell_type": "code",
   "execution_count": 19,
   "metadata": {},
   "outputs": [
    {
     "name": "stdout",
     "output_type": "stream",
     "text": [
      "red\n",
      "4\n",
      "turquoise\n",
      "4\n",
      "4.7L\n",
      "4.7L\n"
     ]
    }
   ],
   "source": [
    "class Car():\n",
    "    Engine = '4.7L'\n",
    "        \n",
    "    def __init__(self,wheels,color):\n",
    "        self.wheels = wheels\n",
    "        self.color = color\n",
    "    \n",
    "ford = Car(4,\"red\")\n",
    "chevy_lumina = Car(4,\"turquoise\")\n",
    "print(ford.color)\n",
    "print(ford.wheels)\n",
    "print(chevy_lumina.color)\n",
    "print(chevy_lumina.wheels)\n",
    "\n",
    "print(ford.Engine)\n",
    "print(chevy_lumina.Engine)\n"
   ]
  },
  {
   "cell_type": "markdown",
   "metadata": {},
   "source": [
    "##### The 'self' Attribute <br>\n",
    "<p>This attribute is required to keep track of specific instance's attributes. Without the self attribute, the program would not know how to reference or keep track of an instance's attributes.</p>"
   ]
  },
  {
   "cell_type": "code",
   "execution_count": null,
   "metadata": {},
   "outputs": [],
   "source": [
    "# see above\n",
    "\n"
   ]
  },
  {
   "cell_type": "markdown",
   "metadata": {},
   "source": [
    "## Class Attributes <br>\n",
    "<p>While variables are inside of a class, they are referred to as attributes and not variables. When someone says 'attribute' you know they're speaking about a class. Attributes can be initialized through the init method, or outside of it.</p>"
   ]
  },
  {
   "cell_type": "markdown",
   "metadata": {},
   "source": [
    "##### Initializing Attributes"
   ]
  },
  {
   "cell_type": "code",
   "execution_count": 21,
   "metadata": {},
   "outputs": [
    {
     "name": "stdout",
     "output_type": "stream",
     "text": [
      "greyish\n",
      "castle\n",
      "True\n"
     ]
    }
   ],
   "source": [
    "# see above\n",
    "class Toy():\n",
    "    TYPE = \"Legos\"\n",
    "    \n",
    "    def __init__(self,connect,colors,theme_set,studs,shape,choking_hazard, foot_hazard = True):\n",
    "        self.connect = connect\n",
    "        self.colors = colors\n",
    "        self.theme_set = theme_set\n",
    "        self.studs = studs\n",
    "        self.shape = shape\n",
    "        self.choking_hazard = choking_hazard\n",
    "        self.foot_hazard = foot_hazard\n",
    "        \n",
    "star_wars = Toy(True,\"greyish\",\"Star Wars\",\"a lot\",\"millenium falcon\", True)\n",
    "harry_potter = Toy(True,\"brown\",\"Harry Potter\",\"a lot\",\"castle\",True)    \n",
    "\n"
   ]
  },
  {
   "cell_type": "markdown",
   "metadata": {},
   "source": [
    "##### Accessing Class Attributes"
   ]
  },
  {
   "cell_type": "code",
   "execution_count": 22,
   "metadata": {
    "scrolled": true
   },
   "outputs": [
    {
     "name": "stdout",
     "output_type": "stream",
     "text": [
      "greyish\n",
      "castle\n",
      "True\n"
     ]
    }
   ],
   "source": [
    "# See Above\n",
    "print(star_wars.colors)\n",
    "print(harry_potter.shape)\n",
    "\n",
    "print(star_wars.foot_hazard)"
   ]
  },
  {
   "cell_type": "markdown",
   "metadata": {},
   "source": [
    "##### Setting Defaults for Attributes"
   ]
  },
  {
   "cell_type": "code",
   "execution_count": 23,
   "metadata": {
    "scrolled": true
   },
   "outputs": [
    {
     "name": "stdout",
     "output_type": "stream",
     "text": [
      "Blue\n",
      "Blue\n"
     ]
    }
   ],
   "source": [
    "class Car():\n",
    "    ENGINE = \"4.7L\"\n",
    "    \n",
    "    def __init__(self,wheels):\n",
    "        self.wheels = wheels\n",
    "        self.color = \"Blue\"\n",
    "        \n",
    "honda = Car(4)\n",
    "hummer = Car(6)\n",
    "\n",
    "print(honda.color)\n",
    "print(hummer.color)"
   ]
  },
  {
   "cell_type": "code",
   "execution_count": 24,
   "metadata": {},
   "outputs": [
    {
     "name": "stdout",
     "output_type": "stream",
     "text": [
      "Blue\n"
     ]
    }
   ],
   "source": [
    "class Car():\n",
    "    ENGINE = \"4.7L\"\n",
    "    \n",
    "    def __init__(self,wheels, color = \"Blue\"):\n",
    "        self.wheels = wheels\n",
    "        self.color = color\n",
    "        \n",
    "chevy = Car(4)\n",
    "mazda = Car(4)\n",
    "print(chevy.color)"
   ]
  },
  {
   "cell_type": "markdown",
   "metadata": {},
   "source": [
    "##### Changing Class Attributes <br>\n",
    "<p>Keep in mind there are global class attributes and then there are attributes only available to each class instance which won't effect other classes.</p>"
   ]
  },
  {
   "cell_type": "code",
   "execution_count": 27,
   "metadata": {},
   "outputs": [
    {
     "name": "stdout",
     "output_type": "stream",
     "text": [
      "Before the change: white\n",
      "\n",
      " After the change: white\n",
      " Before the change: 18\n",
      "\n",
      " After the change: 18\n"
     ]
    }
   ],
   "source": [
    "#change the default attribute\n",
    "print(f\"Before the change: {chevy.color}\")\n",
    "\n",
    "chevy.color = \"white\"\n",
    "print(f\"\\n After the change: {chevy.color}\")\n",
    "\n",
    "#change an instantiated attribute\n",
    "print(f\" Before the change: {mazda.wheels}\")\n",
    "mazda.wheels = 18\n",
    "print(f\"\\n After the change: {mazda.wheels}\")"
   ]
  },
  {
   "cell_type": "code",
   "execution_count": null,
   "metadata": {},
   "outputs": [],
   "source": []
  },
  {
   "cell_type": "markdown",
   "metadata": {},
   "source": [
    "##### In-Class Exercise #2 - Add a doors and seats attribute to your 'Car' class then print out two different instances with different doors and seats. Then change one of the instantiated attributes"
   ]
  },
  {
   "cell_type": "code",
   "execution_count": 31,
   "metadata": {},
   "outputs": [
    {
     "name": "stdout",
     "output_type": "stream",
     "text": [
      "Spyker Doors: 4\n",
      "Vencer Doors: 2\n",
      "Spyker Seats: 4\n",
      "Vencer Seats: 2\n",
      "Spyker after Seat Removal: 2\n"
     ]
    }
   ],
   "source": [
    "class SuperCars():\n",
    "    WHEELS = 4\n",
    "    HOOD = \"Carbon Fibre\"\n",
    "    TIRES = \"Racing\"\n",
    "    \n",
    "    def __init__(self,doors,seats = 4):\n",
    "        self.doors = doors\n",
    "        self.seats = seats\n",
    "    \n",
    "spyker = SuperCars(4)\n",
    "vencer = SuperCars(2,2)\n",
    "print(\"Spyker Doors:\",spyker.doors)\n",
    "print(\"Vencer Doors:\",vencer.doors)\n",
    "print(\"Spyker Seats:\",spyker.seats)\n",
    "print(\"Vencer Seats:\",vencer.seats)\n",
    "spyker.seats = 2\n",
    "print(\"Spyker after Seat Removal:\", spyker.seats)"
   ]
  },
  {
   "cell_type": "markdown",
   "metadata": {},
   "source": [
    "## Class Methods <br>\n",
    "<p>While inside of a class, functions are referred to as 'methods'. If you hear someone mention methods, they're speaking about classes. Methods are essentially functions, but only callable on the instances of a class.</p>"
   ]
  },
  {
   "cell_type": "markdown",
   "metadata": {},
   "source": [
    "##### Creating"
   ]
  },
  {
   "cell_type": "code",
   "execution_count": 41,
   "metadata": {},
   "outputs": [],
   "source": [
    "class Bus():\n",
    "    \"\"\"\n",
    "    Our bus will have doors,sears,available,color,and a bus driver\n",
    "    \n",
    "    Attributes for the class:\n",
    "    -doors: expected to be an integer\n",
    "    -seats: integer\n",
    "    -seats_availabe: integer\n",
    "    -color: string\n",
    "    -bus_driver:string\n",
    "    \n",
    "    \"\"\"\n",
    "    \n",
    "    def __init__(self,doors,seats,seats_available,color,bus_driver):\n",
    "        self.doors = doors\n",
    "        self.seats = seats\n",
    "        self.seats_available = seats_available\n",
    "        self.color = color\n",
    "        self.bus_driver = bus_driver\n",
    "    #decrement the number of seats avaialble\n",
    "    #changing a clss attribute with a method\n",
    "    def load_passengers(self):\n",
    "        if self.seats_available <= 0:\n",
    "            print(\"The bus is full!\")\n",
    "            if self.seats_available < 0:\n",
    "                print(f\"You left {abs(self.seats_available)} people by the road\")\n",
    "                self.seats_available = 0\n",
    "        else:\n",
    "            passengers = int(input(\"How many passengers are getting on?\"))\n",
    "            self.seats_available -= passengers\n",
    "            print(f\"{passengers} seats have been loaded and there are {self.seats_available} seats available\")\n",
    "        \n",
    "    #increment the number of seats avaialbe\n",
    "    #changes a class attribute with a method\n",
    "    def unload_passengers(self):\n",
    "        if self.seats_available >= self.seats:\n",
    "            print(\"There is no one left to get off the bus\")\n",
    "            self.seats_available = self.seats\n",
    "        else:\n",
    "            unload = int(input(\"How many passengers are getting of the bus?\"))\n",
    "            self.seats_available += unload\n",
    "            if self.seats_available >= self.seats:\n",
    "                self.seats_available = self.seats\n",
    "                print(f\"{unload} passengers have left the bus. There are {self.seats_available} unoccupied seats\")\n",
    "            print(f\"{unload} passenger have the bus. There are {self.seats_available} unoccupied seats\")\n",
    "    def change_driver(self):\n",
    "        change = input(\"Who is replacing you?\")\n",
    "        self.bus_driver = change\n",
    "        print(f\"The new bus driver is {self.bus_driver}\")\n",
    "              \n",
    "    def check_seats(self):\n",
    "        print(f\"There are {self.seats_available} seats available\")\n",
    "              \n",
    "    def admire_bus(self):\n",
    "        print(f\"Would ya just look at that beautiful {self.color} bus\")\n",
    "\n",
    "              \n",
    "juice_bus = Bus(2, 90, 45, 'yellow', 'John')\n"
   ]
  },
  {
   "cell_type": "markdown",
   "metadata": {},
   "source": [
    "##### Calling"
   ]
  },
  {
   "cell_type": "code",
   "execution_count": 42,
   "metadata": {},
   "outputs": [
    {
     "name": "stdout",
     "output_type": "stream",
     "text": [
      "What would you like to do? Load, Unload, Change Driver, Check Seats, Admire Bus, Quitload\n",
      "How many passengers are getting on?15\n",
      "15 seats have been loaded and there are 30 seats available\n",
      "What would you like to do? Load, Unload, Change Driver, Check Seats, Admire Bus, Quitcheck seats\n",
      "There are 30 seats available\n"
     ]
    },
    {
     "ename": "KeyboardInterrupt",
     "evalue": "Interrupted by user",
     "output_type": "error",
     "traceback": [
      "\u001b[1;31m---------------------------------------------------------------------------\u001b[0m",
      "\u001b[1;31mKeyboardInterrupt\u001b[0m                         Traceback (most recent call last)",
      "Input \u001b[1;32mIn [42]\u001b[0m, in \u001b[0;36m<cell line: 20>\u001b[1;34m()\u001b[0m\n\u001b[0;32m     18\u001b[0m         \u001b[38;5;28;01melse\u001b[39;00m:\n\u001b[0;32m     19\u001b[0m             \u001b[38;5;28mprint\u001b[39m(\u001b[38;5;124m\"\u001b[39m\u001b[38;5;124mnot valid response!\u001b[39m\u001b[38;5;124m\"\u001b[39m)\n\u001b[1;32m---> 20\u001b[0m \u001b[43mrun\u001b[49m\u001b[43m(\u001b[49m\u001b[43m)\u001b[49m\n",
      "Input \u001b[1;32mIn [42]\u001b[0m, in \u001b[0;36mrun\u001b[1;34m()\u001b[0m\n\u001b[0;32m      2\u001b[0m \u001b[38;5;28;01mdef\u001b[39;00m \u001b[38;5;21mrun\u001b[39m():\n\u001b[0;32m      3\u001b[0m     \u001b[38;5;28;01mwhile\u001b[39;00m \u001b[38;5;28;01mTrue\u001b[39;00m:\n\u001b[1;32m----> 4\u001b[0m         response \u001b[38;5;241m=\u001b[39m \u001b[38;5;28;43minput\u001b[39;49m\u001b[43m(\u001b[49m\u001b[38;5;124;43m\"\u001b[39;49m\u001b[38;5;124;43mWhat would you like to do? Load, Unload, Change Driver, Check Seats, Admire Bus, Quit\u001b[39;49m\u001b[38;5;124;43m\"\u001b[39;49m\u001b[43m)\u001b[49m\n\u001b[0;32m      5\u001b[0m         \u001b[38;5;28;01mif\u001b[39;00m response\u001b[38;5;241m.\u001b[39mlower() \u001b[38;5;241m==\u001b[39m \u001b[38;5;124m\"\u001b[39m\u001b[38;5;124mquit\u001b[39m\u001b[38;5;124m\"\u001b[39m:\n\u001b[0;32m      6\u001b[0m             \u001b[38;5;28mprint\u001b[39m(\u001b[38;5;124m\"\u001b[39m\u001b[38;5;124mOh no! There are still passengers to be picked up! :(\u001b[39m\u001b[38;5;124m\"\u001b[39m)\n",
      "File \u001b[1;32m~\\AppData\\Local\\Programs\\Python\\Python39\\lib\\site-packages\\ipykernel\\kernelbase.py:1161\u001b[0m, in \u001b[0;36mKernel.raw_input\u001b[1;34m(self, prompt)\u001b[0m\n\u001b[0;32m   1157\u001b[0m \u001b[38;5;28;01mif\u001b[39;00m \u001b[38;5;129;01mnot\u001b[39;00m \u001b[38;5;28mself\u001b[39m\u001b[38;5;241m.\u001b[39m_allow_stdin:\n\u001b[0;32m   1158\u001b[0m     \u001b[38;5;28;01mraise\u001b[39;00m StdinNotImplementedError(\n\u001b[0;32m   1159\u001b[0m         \u001b[38;5;124m\"\u001b[39m\u001b[38;5;124mraw_input was called, but this frontend does not support input requests.\u001b[39m\u001b[38;5;124m\"\u001b[39m\n\u001b[0;32m   1160\u001b[0m     )\n\u001b[1;32m-> 1161\u001b[0m \u001b[38;5;28;01mreturn\u001b[39;00m \u001b[38;5;28;43mself\u001b[39;49m\u001b[38;5;241;43m.\u001b[39;49m\u001b[43m_input_request\u001b[49m\u001b[43m(\u001b[49m\n\u001b[0;32m   1162\u001b[0m \u001b[43m    \u001b[49m\u001b[38;5;28;43mstr\u001b[39;49m\u001b[43m(\u001b[49m\u001b[43mprompt\u001b[49m\u001b[43m)\u001b[49m\u001b[43m,\u001b[49m\n\u001b[0;32m   1163\u001b[0m \u001b[43m    \u001b[49m\u001b[38;5;28;43mself\u001b[39;49m\u001b[38;5;241;43m.\u001b[39;49m\u001b[43m_parent_ident\u001b[49m\u001b[43m[\u001b[49m\u001b[38;5;124;43m\"\u001b[39;49m\u001b[38;5;124;43mshell\u001b[39;49m\u001b[38;5;124;43m\"\u001b[39;49m\u001b[43m]\u001b[49m\u001b[43m,\u001b[49m\n\u001b[0;32m   1164\u001b[0m \u001b[43m    \u001b[49m\u001b[38;5;28;43mself\u001b[39;49m\u001b[38;5;241;43m.\u001b[39;49m\u001b[43mget_parent\u001b[49m\u001b[43m(\u001b[49m\u001b[38;5;124;43m\"\u001b[39;49m\u001b[38;5;124;43mshell\u001b[39;49m\u001b[38;5;124;43m\"\u001b[39;49m\u001b[43m)\u001b[49m\u001b[43m,\u001b[49m\n\u001b[0;32m   1165\u001b[0m \u001b[43m    \u001b[49m\u001b[43mpassword\u001b[49m\u001b[38;5;241;43m=\u001b[39;49m\u001b[38;5;28;43;01mFalse\u001b[39;49;00m\u001b[43m,\u001b[49m\n\u001b[0;32m   1166\u001b[0m \u001b[43m\u001b[49m\u001b[43m)\u001b[49m\n",
      "File \u001b[1;32m~\\AppData\\Local\\Programs\\Python\\Python39\\lib\\site-packages\\ipykernel\\kernelbase.py:1205\u001b[0m, in \u001b[0;36mKernel._input_request\u001b[1;34m(self, prompt, ident, parent, password)\u001b[0m\n\u001b[0;32m   1202\u001b[0m             \u001b[38;5;28;01mbreak\u001b[39;00m\n\u001b[0;32m   1203\u001b[0m \u001b[38;5;28;01mexcept\u001b[39;00m \u001b[38;5;167;01mKeyboardInterrupt\u001b[39;00m:\n\u001b[0;32m   1204\u001b[0m     \u001b[38;5;66;03m# re-raise KeyboardInterrupt, to truncate traceback\u001b[39;00m\n\u001b[1;32m-> 1205\u001b[0m     \u001b[38;5;28;01mraise\u001b[39;00m \u001b[38;5;167;01mKeyboardInterrupt\u001b[39;00m(\u001b[38;5;124m\"\u001b[39m\u001b[38;5;124mInterrupted by user\u001b[39m\u001b[38;5;124m\"\u001b[39m) \u001b[38;5;28;01mfrom\u001b[39;00m \u001b[38;5;28mNone\u001b[39m\n\u001b[0;32m   1206\u001b[0m \u001b[38;5;28;01mexcept\u001b[39;00m \u001b[38;5;167;01mException\u001b[39;00m:\n\u001b[0;32m   1207\u001b[0m     \u001b[38;5;28mself\u001b[39m\u001b[38;5;241m.\u001b[39mlog\u001b[38;5;241m.\u001b[39mwarning(\u001b[38;5;124m\"\u001b[39m\u001b[38;5;124mInvalid Message:\u001b[39m\u001b[38;5;124m\"\u001b[39m, exc_info\u001b[38;5;241m=\u001b[39m\u001b[38;5;28;01mTrue\u001b[39;00m)\n",
      "\u001b[1;31mKeyboardInterrupt\u001b[0m: Interrupted by user"
     ]
    }
   ],
   "source": [
    "# See Above\n",
    "def run():\n",
    "    while True:\n",
    "        response = input(\"What would you like to do? Load, Unload, Change Driver, Check Seats, Admire Bus, Quit\")\n",
    "        if response.lower() == \"quit\":\n",
    "            print(\"Oh no! There are still passengers to be picked up! :(\")\n",
    "            break\n",
    "        elif response.lower() == \"load\":\n",
    "            juice_bus.load_passengers()\n",
    "        elif response.lower() == \"unload\":\n",
    "            juice_bus.unload_passengers()\n",
    "        elif response.lower() == \"change driver\":\n",
    "            juice_bus.change_driver()\n",
    "        elif response.lower() == \"check seats\":\n",
    "            juice_bus.check_seats()\n",
    "        elif response.lower() == \"admire\":\n",
    "            juice_bus.admire_bus()\n",
    "        else:\n",
    "            print(\"not valid response!\")\n",
    "run()"
   ]
  },
  {
   "cell_type": "markdown",
   "metadata": {},
   "source": [
    "##### Modifying an Attribute's Value Through a Method"
   ]
  },
  {
   "cell_type": "code",
   "execution_count": null,
   "metadata": {},
   "outputs": [],
   "source": []
  },
  {
   "cell_type": "markdown",
   "metadata": {},
   "source": [
    "##### Incrementing an Attribute's Value Through a Method"
   ]
  },
  {
   "cell_type": "code",
   "execution_count": null,
   "metadata": {},
   "outputs": [],
   "source": []
  },
  {
   "cell_type": "markdown",
   "metadata": {},
   "source": [
    "##### In-Class Exercise #3 - Add a method that takes in three parameters of year, doors and seats and prints out a formatted print statement with make, model, year, seats, and doors"
   ]
  },
  {
   "cell_type": "code",
   "execution_count": 49,
   "metadata": {},
   "outputs": [
    {
     "name": "stdout",
     "output_type": "stream",
     "text": [
      "What would you like to do? Remove Seats?Quit?remove seats\n",
      "How many seats would you like to remove4\n",
      "There are no more seats to be removed! There are 0 in the car\n",
      "What would you like to do? Remove Seats?Quit?Quit\n",
      "Come back when you have more money!\n"
     ]
    }
   ],
   "source": [
    "# Create class with 2 paramters inside of the __init__ which are make and model\n",
    "\n",
    "# Inside of the Car class create a method that has 4 parameter in total (self,year,door,seats)\n",
    "\n",
    "# Output: This car is from 2019 and is a Ford Expolorer and has 4 doors and 5 seats\n",
    "\n",
    "class SuperCars():\n",
    "    WHEELS = 4\n",
    "    HOOD = \"Carbon Fibre\"\n",
    "    TIRES = \"Racing\"\n",
    "    \n",
    "    def __init__(self,doors,seats = 4):\n",
    "        self.doors = doors\n",
    "        self.seats = seats\n",
    "        \n",
    "    def remove_seats(self):\n",
    "        seats_remove = int(input(\"How many seats would you like to remove\"))\n",
    "        self.seats -= seats_remove\n",
    "        if self.seats <= 0:\n",
    "            self.seats == 0\n",
    "            print(f\"There are no more seats to be removed! There are {self.seats} in the car\")\n",
    "        else:\n",
    "            print(f\"You removed {seats_remove} seats. You have {self.seats} seats left.\")\n",
    "spyker = SuperCars(4)\n",
    "\n",
    "def customize():\n",
    "    while True:\n",
    "        option = input(\"What would you like to do? Remove Seats?Quit?\")\n",
    "        if option.lower() == \"quit\":\n",
    "            print(\"Come back when you have more money!\")\n",
    "            break\n",
    "        elif option.lower() == \"remove seats\":\n",
    "            spyker.remove_seats()\n",
    "        \n",
    "customize()\n",
    "\n"
   ]
  },
  {
   "cell_type": "code",
   "execution_count": null,
   "metadata": {},
   "outputs": [],
   "source": []
  },
  {
   "cell_type": "markdown",
   "metadata": {},
   "source": [
    "## Inheritance <br>\n",
    "<p>You can create a child-parent relationship between two classes by using inheritance. What this allows you to do is have overriding methods, but also inherit traits from the parent class. Think of it as an actual parent and child, the child will inherit the parent's genes, as will the classes in OOP</p>"
   ]
  },
  {
   "cell_type": "markdown",
   "metadata": {},
   "source": [
    "##### Syntax for Inheriting from a Parent Class"
   ]
  },
  {
   "cell_type": "code",
   "execution_count": 13,
   "metadata": {},
   "outputs": [],
   "source": [
    "class Animal():\n",
    "    ACCELERATION = 9.8\n",
    "    \n",
    "    def __init__(self,name,species,legs=4):\n",
    "        self.name = name\n",
    "        self.species = species\n",
    "        self.legs = legs\n",
    "        \n",
    "    # Generic Parent(Animal) Method -- no override\n",
    "    def make_sound(self):\n",
    "        print(\"reeeeeeeeeee\")\n",
    "        \n",
    "class Dog(Animal):\n",
    "    SPEED = 15\n",
    "    \n",
    "    def printInfo(self):\n",
    "        print(f\"The dog runs at {SPEED} mph and accelerates towards the ground at {ACCELERATION} meters per second\") \n",
    "        \n",
    "#creation of Grandchild CLass\n",
    "class Mut(Dog):\n",
    "    COLOR = \"brown and tanish\"\n",
    "    \n",
    "    #Override the Animal CLass __init__ method by way of using the Dog class\n",
    "    def __init__(self,name,species,eye_color,legs=4):\n",
    "        Dog.__init(self,name,species,legs)\n",
    "        self.eye_color = eye_color\n",
    "        \n",
    "    #Override the make_sound method from the Animal Class\n",
    "    \n",
    "    def make_sound(self):\n",
    "        print(\"ruff ruff ruff\")\n",
    "    "
   ]
  },
  {
   "cell_type": "code",
   "execution_count": 12,
   "metadata": {},
   "outputs": [
    {
     "name": "stdout",
     "output_type": "stream",
     "text": [
      "Sassy\n",
      "Shadow\n",
      "reeeeeeeeeee\n",
      "reeeeeeeeeee\n",
      "9.8\n"
     ]
    },
    {
     "ename": "AttributeError",
     "evalue": "type object 'Dog' has no attribute '_Mut__init'",
     "output_type": "error",
     "traceback": [
      "\u001b[1;31m---------------------------------------------------------------------------\u001b[0m",
      "\u001b[1;31mAttributeError\u001b[0m                            Traceback (most recent call last)",
      "Input \u001b[1;32mIn [12]\u001b[0m, in \u001b[0;36m<cell line: 12>\u001b[1;34m()\u001b[0m\n\u001b[0;32m      8\u001b[0m \u001b[38;5;28mprint\u001b[39m(dog\u001b[38;5;241m.\u001b[39mACCELERATION)\n\u001b[0;32m     10\u001b[0m \u001b[38;5;66;03m# print(cat.speed) <---- parent class cannot access child attributes\u001b[39;00m\n\u001b[1;32m---> 12\u001b[0m mut \u001b[38;5;241m=\u001b[39m \u001b[43mMut\u001b[49m\u001b[43m(\u001b[49m\u001b[38;5;124;43m\"\u001b[39;49m\u001b[38;5;124;43mEyo\u001b[39;49m\u001b[38;5;124;43m\"\u001b[39;49m\u001b[43m,\u001b[49m\u001b[43m \u001b[49m\u001b[38;5;124;43m\"\u001b[39;49m\u001b[38;5;124;43mchihuahua-terrier mix and maybe also beagle?\u001b[39;49m\u001b[38;5;124;43m\"\u001b[39;49m\u001b[43m,\u001b[49m\u001b[43m \u001b[49m\u001b[38;5;124;43m\"\u001b[39;49m\u001b[38;5;124;43mbrown\u001b[39;49m\u001b[38;5;124;43m\"\u001b[39;49m\u001b[43m)\u001b[49m\n\u001b[0;32m     13\u001b[0m mut\u001b[38;5;241m.\u001b[39mmake_sound()\n\u001b[0;32m     14\u001b[0m \u001b[38;5;28mprint\u001b[39m(mut\u001b[38;5;241m.\u001b[39mname)\n",
      "Input \u001b[1;32mIn [11]\u001b[0m, in \u001b[0;36mMut.__init__\u001b[1;34m(self, name, species, eye_color, legs)\u001b[0m\n\u001b[0;32m     24\u001b[0m \u001b[38;5;28;01mdef\u001b[39;00m \u001b[38;5;21m__init__\u001b[39m(\u001b[38;5;28mself\u001b[39m,name,species,eye_color,legs\u001b[38;5;241m=\u001b[39m\u001b[38;5;241m4\u001b[39m):\n\u001b[1;32m---> 25\u001b[0m     \u001b[43mDog\u001b[49m\u001b[38;5;241;43m.\u001b[39;49m\u001b[43m__init\u001b[49m(\u001b[38;5;28mself\u001b[39m,name,species,legs)\n\u001b[0;32m     26\u001b[0m     \u001b[38;5;28mself\u001b[39m\u001b[38;5;241m.\u001b[39meye_color \u001b[38;5;241m=\u001b[39m eye_color\n",
      "\u001b[1;31mAttributeError\u001b[0m: type object 'Dog' has no attribute '_Mut__init'"
     ]
    }
   ],
   "source": [
    "cat = Animal(\"Sassy\",\"cat\")\n",
    "print(cat.name)\n",
    "dog = Dog(\"Shadow\",\"Golden Retriever\")\n",
    "print(dog.name)\n",
    "cat.make_sound\n",
    "cat.make_sound()\n",
    "dog.make_sound()\n",
    "print(dog.ACCELERATION)\n",
    "\n",
    "# print(cat.speed) <---- parent class cannot access child attributes\n",
    "\n",
    "mut = Mut(\"Eyo\", \"chihuahua-terrier mix and maybe also beagle?\", \"brown\")\n",
    "mut.make_sound()\n",
    "print(mut.name)"
   ]
  },
  {
   "cell_type": "markdown",
   "metadata": {},
   "source": [
    "##### The \\__init\\__() Method for a Child Class - super()"
   ]
  },
  {
   "cell_type": "code",
   "execution_count": 18,
   "metadata": {},
   "outputs": [
    {
     "name": "stdout",
     "output_type": "stream",
     "text": [
      "woof\n",
      "15\n",
      "9.8\n",
      "Czika\n"
     ]
    }
   ],
   "source": [
    "class Mut(Dog):\n",
    "    Color = \"brown and tan\"\n",
    "    \n",
    "    def __init__(self,name,species,eye_color,legs = 4):\n",
    "        super().__init__(name,species,legs)\n",
    "        #super will reference the class that the child class takes in\n",
    "        self.eye_color = eye_color\n",
    "        \n",
    "    def make_sound(self):\n",
    "        print(\"woof\")\n",
    "            \n",
    "            \n",
    "czika = Mut(\"Czika\", \"mini pinscher\",\"black and tan\")\n",
    "\n",
    "czika.make_sound()\n",
    "print(czika.SPEED)\n",
    "print(czika.ACCELERATION)\n",
    "print(czika.name)"
   ]
  },
  {
   "cell_type": "code",
   "execution_count": null,
   "metadata": {
    "scrolled": true
   },
   "outputs": [],
   "source": []
  },
  {
   "cell_type": "markdown",
   "metadata": {},
   "source": [
    "##### Defining Attributes and Methods for the Child Class"
   ]
  },
  {
   "cell_type": "code",
   "execution_count": null,
   "metadata": {},
   "outputs": [],
   "source": [
    "# See Above"
   ]
  },
  {
   "cell_type": "markdown",
   "metadata": {},
   "source": [
    "##### Method Overriding"
   ]
  },
  {
   "cell_type": "code",
   "execution_count": null,
   "metadata": {},
   "outputs": [],
   "source": [
    "# See Above"
   ]
  },
  {
   "cell_type": "markdown",
   "metadata": {},
   "source": [
    "## Classes as Attributes <br>\n",
    "<p>Classes can also be used as attributes within another class. This is useful in situations where you need to keep variables locally stored, instead of globally stored.</p>"
   ]
  },
  {
   "cell_type": "code",
   "execution_count": 22,
   "metadata": {},
   "outputs": [
    {
     "data": {
      "text/plain": [
       "'Here is some info, please enjoy: Tesla, Model X, 20,7.8'"
      ]
     },
     "execution_count": 22,
     "metadata": {},
     "output_type": "execute_result"
    }
   ],
   "source": [
    "class Battery():\n",
    "    VOLTZ = 7.8\n",
    "    \n",
    "    def __init__(self,cells):\n",
    "        self.cells = cells\n",
    "\n",
    "class Car():\n",
    "    def __init__(self,year,make,model,battery):\n",
    "        self.year = year\n",
    "        self.make = make\n",
    "        self.model = model\n",
    "        self.battery = battery\n",
    "        \n",
    "    def printInfo(self):\n",
    "        return f\"Here is some info, please enjoy: {self.make}, {self.model}, {self.battery.cells},{self.battery.VOLTZ}\"\n",
    "    \n",
    "battery = Battery(20)\n",
    "\n",
    "tesla = Car(2022,\"Tesla\", \"Model X\", battery)\n",
    "\n",
    "tesla.printInfo()"
   ]
  },
  {
   "cell_type": "code",
   "execution_count": null,
   "metadata": {},
   "outputs": [],
   "source": [
    "Exercise #4\n",
    "Create a class that has at least 3 attributes. One must be a list or a dictionary.\n",
    "\n",
    "The class must also have 3 methods, one that adds to the list or dictionary, one that alters an attributes value, and one that does whatever you want it to do.\n"
   ]
  },
  {
   "cell_type": "code",
   "execution_count": 34,
   "metadata": {},
   "outputs": [
    {
     "name": "stdout",
     "output_type": "stream",
     "text": [
      "Would you like to add or remove powers?remove\n",
      "What power would you like to forget?flying\n",
      "Power not known\n"
     ]
    }
   ],
   "source": [
    "class Super_hero():\n",
    "    \n",
    "    def __init__(self, secret_identity, weakness,num_of_power = 0):\n",
    "        self.powers = []\n",
    "        self.num_of_power = num_of_power\n",
    "        self.secret_identity = secret_identity\n",
    "        self.weakness = weakness\n",
    "    def custom_powers(self):\n",
    "        option = input(\"Would you like to add or remove powers?\")\n",
    "        if option.lower().strip() == \"add\":\n",
    "            power = input(\"What power would you like to master?\")\n",
    "            self.powers.append(power)\n",
    "            self.num_of_power += 1\n",
    "            print(f\"You have mastered {power}!\")\n",
    "        elif option.lower().strip() == \"remove\":\n",
    "            power = input(\"What power would you like to forget?\")\n",
    "            if power not in self.powers:\n",
    "                print(\"Power not known\")\n",
    "            else:\n",
    "                self.powers.remove(power)\n",
    "                self.num_of_power -= 1\n",
    "                print(f\"You have lost the ability to {power}\")\n",
    "        else:\n",
    "            print(\"Enter valid input!\")\n",
    "        \n",
    "    def change_identity(self):\n",
    "        new_identity = input(\"Who would you like to be known as?\")\n",
    "        self.secret_identity = new_identity\n",
    "    \n",
    "    def calc_destruction(self):\n",
    "        destruction = 0\n",
    "        if self.num_of_power == 0:\n",
    "            print(\"You have failed and humiliated yourself\")\n",
    "        elif self.num_of_power > 0 and self.num_of_power < 5:\n",
    "            destruction = self.num_of_power * 5\n",
    "            print(f\"You destroyed {destruction} buildings\")\n",
    "        elif self.num_of_power > 5:\n",
    "            destruction = self.num_of_power * 10\n",
    "            print(f\"You destroyed {destruction} buildings\")\n",
    "            \n",
    "Razor = Super_hero(\"Johnny\", \"Chocolates\")\n",
    "Razor.custom_powers()"
   ]
  },
  {
   "cell_type": "code",
   "execution_count": 33,
   "metadata": {},
   "outputs": [
    {
     "name": "stdout",
     "output_type": "stream",
     "text": [
      "You destroyed 5 buildings\n"
     ]
    }
   ],
   "source": [
    "Razor.calc_destruction()"
   ]
  },
  {
   "cell_type": "markdown",
   "metadata": {},
   "source": [
    "# Exercises"
   ]
  },
  {
   "cell_type": "markdown",
   "metadata": {},
   "source": [
    "### Exercise 1 - Turn the shopping cart program from yesterday into an object-oriented program\n",
    "\n",
    "The comments in the cell below are there as a guide for thinking about the problem. However, if you feel a different way is best for you and your own thought process, please do what feels best for you by all means."
   ]
  },
  {
   "cell_type": "code",
   "execution_count": 163,
   "metadata": {},
   "outputs": [],
   "source": [
    "# Create a class called cart that retains items and has methods to add, remove, and show\n",
    "\n",
    "class Cart():\n",
    "    \n",
    "    def __init__(self,num_of_items = 0, paid = False):\n",
    "        self.items = {}\n",
    "        self.num_of_items = num_of_items\n",
    "        self.paid = paid\n",
    "    ## Adds items to cart\n",
    "    \n",
    "    def add_item(self):\n",
    "        new_item = input(\"What item would you like to add?\\n\\n\")\n",
    "        quantity = int(input(\"How many of these items would you like to add?\\n\\n\"))\n",
    "        if new_item.lower().strip() in self.items:\n",
    "            self.items[new_item.lower().strip()] += quantity\n",
    "            self.num_of_items += quantity\n",
    "            print(f\"You have added {quantity} {new_item} to your cart\")\n",
    "        else:\n",
    "            self.items[new_item.lower().strip()] = quantity\n",
    "            self.num_of_items += quantity\n",
    "            print(f\"You have added {quantity} {new_item} to your cart\")\n",
    "    \n",
    "    ##Removes items from cart\n",
    "    \n",
    "    def remove_item(self):\n",
    "        input_item = input(\"What item would you like to remove?\\n\\n\")\n",
    "        if input_item.lower().strip() not in self.items:\n",
    "            print(\"You dont have that item in your cart\")\n",
    "        else:\n",
    "            quantity = int(input(\"How many of these items would to remove?\\n\\n\"))\n",
    "            self.items[input_item.lower().strip()] -= quantity\n",
    "            if self.items[input_item.lower().strip()] <= 0:\n",
    "                self.num_of_items -= quantity\n",
    "                del self.items[input_item.lower().strip()]\n",
    "                print(\"You no longer have this item in your cart\")\n",
    "            else:\n",
    "                self.num_of_items -= quantity\n",
    "                print(f\"You now have {self.items[input_item.lower().strip()]} {input_item} remaining left.\")\n",
    "    \n",
    "    ## show items in cart\n",
    "    def show_item(self):\n",
    "        for x,y in self.items.items():\n",
    "            print(f\"{x} :: {y}\")\n",
    "        print(f\"You have {self.num_of_items} items in your cart!\")\n",
    "    \n",
    "    ##pay for items in cart\n",
    "    def pay(self):\n",
    "        if self.num_of_items > 0:\n",
    "            if self.paid == True:\n",
    "                print(\"You have alread paid!!\")\n",
    "            else:\n",
    "                pay_option = input(\"Would you like to pay? Y/N\\n\\n\")\n",
    "                if pay_option.lower().strip() == \"y\":\n",
    "                    self.paid = True\n",
    "                    print(\"You just paid!\")\n",
    "                else:\n",
    "                    print(\"Do not leave before paying!!!\")\n",
    "        else:\n",
    "            print(\"You have nothing to pay for!\")\n",
    "    \n",
    "    #leave the store\n",
    "    def quit(self):\n",
    "        if self.num_of_items > 0:\n",
    "            if self.paid == True:\n",
    "                print(f\"You have left the store with {self.num_of_items} items!\")\n",
    "            else:\n",
    "                print(f\"You have left the store without paying and left {self.num_of_items} in your cart\")\n",
    "        else:\n",
    "            print(\"Goodbye! Next time buy something!!\")\n",
    "        "
   ]
  },
  {
   "cell_type": "code",
   "execution_count": null,
   "metadata": {},
   "outputs": [],
   "source": []
  },
  {
   "cell_type": "code",
   "execution_count": null,
   "metadata": {},
   "outputs": [
    {
     "name": "stdout",
     "output_type": "stream",
     "text": [
      "Welcome to the store!!\n",
      "\n",
      "\n",
      "What you like to do? Add/Remove/Show/Pay/Quit or Help \n",
      "\n",
      "add\n",
      "What item would you like to add?\n",
      "\n",
      "water\n"
     ]
    }
   ],
   "source": [
    "def shopping():\n",
    "    cart = Cart()\n",
    "    \n",
    "    print(\"Welcome to the store!!\")\n",
    "    while True:\n",
    "        input_option = input(\"\\n\\nWhat you like to do? Add/Remove/Show/Pay/Quit or Help \\n\\n\")\n",
    "        if input_option.lower().strip() == \"help\":\n",
    "            print(\"\\n\\nEnter add to add items, remove to remove items, show to show items, or quit to exit\")\n",
    "        elif input_option.lower().strip() == \"quit\":\n",
    "            cart.quit()\n",
    "            break\n",
    "        elif input_option.lower().strip() == \"show\":\n",
    "            cart.show_item()\n",
    "        elif input_option.lower().strip() == \"pay\":\n",
    "            cart.pay()\n",
    "        elif input_option.lower().strip() == \"add\":\n",
    "            cart.add_item()\n",
    "        elif input_option.lower().strip() == \"remove\":\n",
    "            cart.remove_item()\n",
    "        else:\n",
    "            print(\"Invalid Input!\")\n",
    "            \n",
    "shopping()"
   ]
  },
  {
   "cell_type": "code",
   "execution_count": null,
   "metadata": {},
   "outputs": [],
   "source": []
  },
  {
   "cell_type": "code",
   "execution_count": null,
   "metadata": {},
   "outputs": [],
   "source": []
  },
  {
   "cell_type": "code",
   "execution_count": null,
   "metadata": {},
   "outputs": [],
   "source": []
  },
  {
   "cell_type": "markdown",
   "metadata": {},
   "source": [
    "### Exercise 2 - Write a Python class which has two methods get_String and print_String. get_String accept a string from the user and print_String print the string in upper case"
   ]
  },
  {
   "cell_type": "code",
   "execution_count": 51,
   "metadata": {},
   "outputs": [],
   "source": [
    "class stringy():\n",
    "    \n",
    "    def __init__(self,string = \"\"):\n",
    "        self.string = string\n",
    "    \n",
    "    def get_String(self):\n",
    "        new_string = input(\"Enter the new string:\")\n",
    "        self.string = new_string\n",
    "    \n",
    "    def print_String(self):\n",
    "        print(self.string.upper())"
   ]
  },
  {
   "cell_type": "code",
   "execution_count": 52,
   "metadata": {},
   "outputs": [],
   "source": [
    "sting = stringy()"
   ]
  },
  {
   "cell_type": "code",
   "execution_count": 53,
   "metadata": {},
   "outputs": [
    {
     "name": "stdout",
     "output_type": "stream",
     "text": [
      "Enter the new string:new new string\n"
     ]
    }
   ],
   "source": [
    "sting.get_String()"
   ]
  },
  {
   "cell_type": "code",
   "execution_count": 54,
   "metadata": {},
   "outputs": [
    {
     "name": "stdout",
     "output_type": "stream",
     "text": [
      "NEW NEW STRING\n"
     ]
    }
   ],
   "source": [
    "sting.print_String()"
   ]
  },
  {
   "cell_type": "code",
   "execution_count": null,
   "metadata": {},
   "outputs": [],
   "source": []
  }
 ],
 "metadata": {
  "kernelspec": {
   "display_name": "Python 3 (ipykernel)",
   "language": "python",
   "name": "python3"
  },
  "language_info": {
   "codemirror_mode": {
    "name": "ipython",
    "version": 3
   },
   "file_extension": ".py",
   "mimetype": "text/x-python",
   "name": "python",
   "nbconvert_exporter": "python",
   "pygments_lexer": "ipython3",
   "version": "3.9.12"
  }
 },
 "nbformat": 4,
 "nbformat_minor": 2
}
